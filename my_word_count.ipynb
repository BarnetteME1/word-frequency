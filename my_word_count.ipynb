{
 "cells": [
  {
   "cell_type": "code",
   "execution_count": null,
   "metadata": {
    "collapsed": true
   },
   "outputs": [],
   "source": [
    "with open(\"sample.txt\") as hounds_of_the_baskerville:\n",
    "    book = hounds_of_the_baskerville.read()"
   ]
  },
  {
   "cell_type": "code",
   "execution_count": null,
   "metadata": {
    "collapsed": false
   },
   "outputs": [],
   "source": [
    "from string import punctuation\n",
    "from string import whitespace"
   ]
  },
  {
   "cell_type": "code",
   "execution_count": null,
   "metadata": {
    "collapsed": false
   },
   "outputs": [],
   "source": [
    "for char in book:\n",
    "    if char in punctuation:\n",
    "        book = book.replace(char, ' ')\n",
    "    if char in whitespace:\n",
    "        book = book.replace(char, ' ')"
   ]
  },
  {
   "cell_type": "code",
   "execution_count": null,
   "metadata": {
    "collapsed": false
   },
   "outputs": [],
   "source": [
    "book = book.lower().split()"
   ]
  },
  {
   "cell_type": "code",
   "execution_count": null,
   "metadata": {
    "collapsed": false
   },
   "outputs": [],
   "source": [
    "#book = book.split()"
   ]
  },
  {
   "cell_type": "code",
   "execution_count": null,
   "metadata": {
    "collapsed": false
   },
   "outputs": [],
   "source": [
    "word_count = {}\n",
    "for word in book:\n",
    "    if word not in word_count:\n",
    "        word_count[word]=1\n",
    "    else:\n",
    "        word_count[word]+=1"
   ]
  },
  {
   "cell_type": "code",
   "execution_count": null,
   "metadata": {
    "collapsed": false
   },
   "outputs": [],
   "source": [
    "new_dict = word_count"
   ]
  },
  {
   "cell_type": "code",
   "execution_count": null,
   "metadata": {
    "collapsed": false
   },
   "outputs": [],
   "source": [
    "word_list = []\n",
    "for word in new_dict:\n",
    "    word_list.append([new_dict[word], word])"
   ]
  },
  {
   "cell_type": "code",
   "execution_count": null,
   "metadata": {
    "collapsed": false
   },
   "outputs": [],
   "source": [
    "third_dict = {}\n",
    "\n",
    "for word in word_list:\n",
    "    if word[0] not in third_dict:\n",
    "        third_dict[word[0]] = word[1]\n",
    "    else:\n",
    "        third_dict[word[0]] += ', '+word[1]\n"
   ]
  },
  {
   "cell_type": "code",
   "execution_count": null,
   "metadata": {
    "collapsed": false
   },
   "outputs": [],
   "source": [
    "word_count = sorted(third_dict)"
   ]
  },
  {
   "cell_type": "code",
   "execution_count": null,
   "metadata": {
    "collapsed": false
   },
   "outputs": [],
   "source": [
    "word_count = word_count[::-1]"
   ]
  },
  {
   "cell_type": "code",
   "execution_count": null,
   "metadata": {
    "collapsed": false
   },
   "outputs": [],
   "source": [
    "n=0\n",
    "word = ''\n",
    "top_twenty = []\n",
    "while n <= 20:\n",
    "    word = third_dict[word_count[n]]\n",
    "    top_twenty.append([word_count[n], third_dict[word_count[n]]])\n",
    "    n+=1\n",
    "print(top_twenty)"
   ]
  },
  {
   "cell_type": "code",
   "execution_count": null,
   "metadata": {
    "collapsed": false
   },
   "outputs": [],
   "source": [
    "for word, count in top_twenty:\n",
    "    print (\"{}: {}\".format(word, count))"
   ]
  },
  {
   "cell_type": "code",
   "execution_count": null,
   "metadata": {
    "collapsed": false
   },
   "outputs": [],
   "source": [
    "with open(\"sample.txt\") as hounds_of_the_baskerville:\n",
    "    book = hounds_of_the_baskerville.read()\n",
    "\n",
    "from string import punctuation\n",
    "from string import whitespace\n",
    "\n",
    "def words(book):\n",
    "    for char in book:\n",
    "        if char in punctuation:\n",
    "            book = book.replace(char, ' ')\n",
    "        if char in whitespace:\n",
    "            book = book.replace(char, ' ')\n",
    "        return book.lower().split()\n",
    "\n",
    "def top_twenty(book):\n",
    "    word_count = {}\n",
    "    count_word = {}\n",
    "    for word in book:\n",
    "        if word not in word_count:\n",
    "            word_count[word]=1\n",
    "        else:\n",
    "            word_count[word]+=1\n",
    "    word_list = []\n",
    "    for word in word_count:\n",
    "        word_list.append([word_count[word], word])\n",
    "    for word in word_list:\n",
    "        if word[0] not in count_word:\n",
    "            count_word[word[0]] = word[1]\n",
    "        else:\n",
    "            count_word[word[0]] += ', '+word[1]\n",
    "    count = sorted(count_word)\n",
    "    count = count[::-1]\n",
    "    n=0\n",
    "    word = ''\n",
    "    top_twenty = []\n",
    "    while n <= 20:\n",
    "        word = count_word[word_count[n]]\n",
    "        top_twenty.append([word_count[n], count_word[word_count[n]]])\n",
    "        n+=1\n",
    "    for word, count in top_twenty:\n",
    "        return (\"{}: {}\".format(word, count))\n",
    "    \n",
    "print (top_twenty(words(book)))"
   ]
  },
  {
   "cell_type": "code",
   "execution_count": null,
   "metadata": {
    "collapsed": false
   },
   "outputs": [],
   "source": [
    "print (top_twenty(words(book)))"
   ]
  },
  {
   "cell_type": "code",
   "execution_count": 16,
   "metadata": {
    "collapsed": true
   },
   "outputs": [],
   "source": [
    "with open(\"sample.txt\") as hounds_of_the_baskerville:\n",
    "    book = hounds_of_the_baskerville.read()\n",
    "    \n",
    "from string import punctuation\n",
    "from string import whitespace\n",
    "from operator import itemgetter\n",
    "\n",
    "useless_words = ['a', 'able', 'about', 'across', 'after', 'all', 'almost', 'also', 'am',\n",
    "                 'among', 'an', 'and', 'any', 'are', 'as', 'at', 'be', 'because', 'been',\n",
    "                 'but', 'by', 'can', 'cannot','could','dear','did','do','does','either'\n",
    "                 ,'else','ever','every','for','from','get','got','had','has','have',\n",
    "                 'he','her','hers','him','his','how','however','i','if','in','into',\n",
    "                 'is','it','its','just','least','let','like','likely','may','me',\n",
    "                 'might','most','must','my','neither','no','nor','not','of','off',\n",
    "                 'often','on','only','or','other','our','own','rather','said',\n",
    "                 'say','says','she','should','since','so','some','than','that',\n",
    "                 'the','their','them','then','there','these','they','this','tis',\n",
    "                 'to','too','twas','us','wants','was','we','were','what','when',\n",
    "                 'where','which','while','who','whom','why','will','with','would',\n",
    "                 'yet','you','your']\n",
    "\n",
    "def words(book):\n",
    "    for char in book:\n",
    "        if char in punctuation:\n",
    "            book = book.replace(char, '')\n",
    "        if char in whitespace:\n",
    "            book = book.replace(char, ' ')\n",
    "    return book.lower().split()"
   ]
  },
  {
   "cell_type": "code",
   "execution_count": 21,
   "metadata": {
    "collapsed": false
   },
   "outputs": [
    {
     "data": {
      "text/plain": [
       "{'a': 914,\n",
       " 'and': 709,\n",
       " 'are': 169,\n",
       " 'as': 167,\n",
       " 'at': 148,\n",
       " 'be': 250,\n",
       " 'but': 173,\n",
       " 'had': 258,\n",
       " 'have': 374,\n",
       " 'he': 407,\n",
       " 'his': 214,\n",
       " 'i': 555,\n",
       " 'in': 199,\n",
       " 'is': 164,\n",
       " 'it': 216,\n",
       " 'my': 131,\n",
       " 'of': 250,\n",
       " 'out': 168,\n",
       " 'sir': 151,\n",
       " 'the': 278,\n",
       " 'very': 191}"
      ]
     },
     "execution_count": 21,
     "metadata": {},
     "output_type": "execute_result"
    }
   ],
   "source": [
    "def word_frequency(book):\n",
    "    book = words(book)\n",
    "    word_count = {}\n",
    "    n = 0\n",
    "    while n < len(book):\n",
    "        for word in useless_words:\n",
    "            if word in book[n]:\n",
    "                book.remove(book[n])\n",
    "        n+=1\n",
    "    for word in book:\n",
    "        if word not in word_count:\n",
    "            word_count[word] = 1\n",
    "        else:\n",
    "            word_count[word] += 1\n",
    "    return word_count\n",
    "\n",
    "def top_twenty(book):\n",
    "    word_count = word_frequency(book)\n",
    "    count_word = {}\n",
    "    count_word = sorted(word_count.items(), key=lambda x: x[1], reverse = True)\n",
    "    n=0\n",
    "    top_twenty = []\n",
    "    while n <= 20:\n",
    "        top_twenty.append(count_word[n])\n",
    "        n+=1\n",
    "    return dict(top_twenty)\n",
    "\n",
    "#words(book)\n",
    "#word_frequency(book)\n",
    "top_twenty(book)\n",
    "#print(word_list)"
   ]
  },
  {
   "cell_type": "code",
   "execution_count": 9,
   "metadata": {
    "collapsed": false
   },
   "outputs": [
    {
     "name": "stdout",
     "output_type": "stream",
     "text": [
      "['123', 'xyz', 'the', 'abc', 'a', 'across', 'xyz']\n",
      "['123', 'xyz', 'the', 'abc', 'a', 'across', 'xyz']\n",
      "['123', 'xyz', 'abc', 'a', 'across', 'xyz']\n",
      "['123', 'xyz', 'abc', 'xyz']\n"
     ]
    }
   ],
   "source": [
    "book = ['123', 'xyz', 'the', 'abc', 'a', 'across', 'xyz'];\n",
    "n=0\n",
    "while n < len(book):\n",
    "    for word in useless_words:\n",
    "        if word in book[n]:\n",
    "            book.remove(book[n])\n",
    "    n+=1\n",
    "    print(book)"
   ]
  },
  {
   "cell_type": "code",
   "execution_count": null,
   "metadata": {
    "collapsed": true
   },
   "outputs": [],
   "source": []
  }
 ],
 "metadata": {
  "kernelspec": {
   "display_name": "Python 3",
   "language": "python",
   "name": "python3"
  },
  "language_info": {
   "codemirror_mode": {
    "name": "ipython",
    "version": 3
   },
   "file_extension": ".py",
   "mimetype": "text/x-python",
   "name": "python",
   "nbconvert_exporter": "python",
   "pygments_lexer": "ipython3",
   "version": "3.5.0"
  }
 },
 "nbformat": 4,
 "nbformat_minor": 0
}
