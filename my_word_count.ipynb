{
 "cells": [
  {
   "cell_type": "code",
   "execution_count": null,
   "metadata": {
    "collapsed": true
   },
   "outputs": [],
   "source": [
    "with open(\"sample.txt\") as hounds_of_the_baskerville:\n",
    "    book = hounds_of_the_baskerville.read()"
   ]
  },
  {
   "cell_type": "code",
   "execution_count": null,
   "metadata": {
    "collapsed": false
   },
   "outputs": [],
   "source": [
    "from string import punctuation\n",
    "from string import whitespace"
   ]
  },
  {
   "cell_type": "code",
   "execution_count": null,
   "metadata": {
    "collapsed": false
   },
   "outputs": [],
   "source": [
    "for char in book:\n",
    "    if char in punctuation:\n",
    "        book = book.replace(char, ' ')\n",
    "    if char in whitespace:\n",
    "        book = book.replace(char, ' ')"
   ]
  },
  {
   "cell_type": "code",
   "execution_count": null,
   "metadata": {
    "collapsed": false
   },
   "outputs": [],
   "source": [
    "book = book.lower().split()"
   ]
  },
  {
   "cell_type": "code",
   "execution_count": null,
   "metadata": {
    "collapsed": false
   },
   "outputs": [],
   "source": [
    "#book = book.split()"
   ]
  },
  {
   "cell_type": "code",
   "execution_count": null,
   "metadata": {
    "collapsed": false
   },
   "outputs": [],
   "source": [
    "word_count = {}\n",
    "for word in book:\n",
    "    if word not in word_count:\n",
    "        word_count[word]=1\n",
    "    else:\n",
    "        word_count[word]+=1"
   ]
  },
  {
   "cell_type": "code",
   "execution_count": null,
   "metadata": {
    "collapsed": false
   },
   "outputs": [],
   "source": [
    "new_dict = word_count"
   ]
  },
  {
   "cell_type": "code",
   "execution_count": null,
   "metadata": {
    "collapsed": false
   },
   "outputs": [],
   "source": [
    "word_list = []\n",
    "for word in new_dict:\n",
    "    word_list.append([new_dict[word], word])"
   ]
  },
  {
   "cell_type": "code",
   "execution_count": null,
   "metadata": {
    "collapsed": false
   },
   "outputs": [],
   "source": [
    "third_dict = {}\n",
    "\n",
    "for word in word_list:\n",
    "    if word[0] not in third_dict:\n",
    "        third_dict[word[0]] = word[1]\n",
    "    else:\n",
    "        third_dict[word[0]] += ', '+word[1]\n"
   ]
  },
  {
   "cell_type": "code",
   "execution_count": null,
   "metadata": {
    "collapsed": false
   },
   "outputs": [],
   "source": [
    "word_count = sorted(third_dict)"
   ]
  },
  {
   "cell_type": "code",
   "execution_count": null,
   "metadata": {
    "collapsed": false
   },
   "outputs": [],
   "source": [
    "word_count = word_count[::-1]"
   ]
  },
  {
   "cell_type": "code",
   "execution_count": null,
   "metadata": {
    "collapsed": false
   },
   "outputs": [],
   "source": [
    "n=0\n",
    "word = ''\n",
    "top_twenty = []\n",
    "while n <= 20:\n",
    "    word = third_dict[word_count[n]]\n",
    "    top_twenty.append([word_count[n], third_dict[word_count[n]]])\n",
    "    n+=1\n",
    "print(top_twenty)"
   ]
  },
  {
   "cell_type": "code",
   "execution_count": null,
   "metadata": {
    "collapsed": false
   },
   "outputs": [],
   "source": [
    "for word, count in top_twenty:\n",
    "    print (\"{}: {}\".format(word, count))"
   ]
  },
  {
   "cell_type": "code",
   "execution_count": null,
   "metadata": {
    "collapsed": false
   },
   "outputs": [],
   "source": [
    "with open(\"sample.txt\") as hounds_of_the_baskerville:\n",
    "    book = hounds_of_the_baskerville.read()\n",
    "\n",
    "from string import punctuation\n",
    "from string import whitespace\n",
    "\n",
    "def words(book):\n",
    "    for char in book:\n",
    "        if char in punctuation:\n",
    "            book = book.replace(char, ' ')\n",
    "        if char in whitespace:\n",
    "            book = book.replace(char, ' ')\n",
    "        return book.lower().split()\n",
    "\n",
    "def top_twenty(book):\n",
    "    word_count = {}\n",
    "    count_word = {}\n",
    "    for word in book:\n",
    "        if word not in word_count:\n",
    "            word_count[word]=1\n",
    "        else:\n",
    "            word_count[word]+=1\n",
    "    word_list = []\n",
    "    for word in word_count:\n",
    "        word_list.append([word_count[word], word])\n",
    "    for word in word_list:\n",
    "        if word[0] not in count_word:\n",
    "            count_word[word[0]] = word[1]\n",
    "        else:\n",
    "            count_word[word[0]] += ', '+word[1]\n",
    "    count = sorted(count_word)\n",
    "    count = count[::-1]\n",
    "    n=0\n",
    "    word = ''\n",
    "    top_twenty = []\n",
    "    while n <= 20:\n",
    "        word = count_word[word_count[n]]\n",
    "        top_twenty.append([word_count[n], count_word[word_count[n]]])\n",
    "        n+=1\n",
    "    for word, count in top_twenty:\n",
    "        return (\"{}: {}\".format(word, count))\n",
    "    \n",
    "print (top_twenty(words(book)))"
   ]
  },
  {
   "cell_type": "code",
   "execution_count": null,
   "metadata": {
    "collapsed": false
   },
   "outputs": [],
   "source": [
    "print (top_twenty(words(book)))"
   ]
  },
  {
   "cell_type": "code",
   "execution_count": 45,
   "metadata": {
    "collapsed": true
   },
   "outputs": [],
   "source": [
    "with open(\"sample.txt\") as hounds_of_the_baskerville:\n",
    "    book = hounds_of_the_baskerville.read()\n",
    "    \n",
    "from string import punctuation\n",
    "from string import whitespace\n",
    "\n",
    "useless_words = ['a','able','about','across','after','all','almost','also','am',\n",
    "                 'among','an','and','any','are','as','at','be','because','been',\n",
    "                 'but','by','can','cannot','could','dear','did','do','does','either'\n",
    "                 ,'else','ever,every,\n",
    "for,from,get,got,had,has,have,he,her,hers,him,his,how,however,i,if,in,into,is,\n",
    "it,its,just,least,let,like,likely,may,me,might,most,must,my,neither,no,nor,\n",
    "not,of,off,often,on,only,or,other,our,own,rather,said,say,says,she,should,\n",
    "since,so,some,than,that,the,their,them,then,there,these,they,this,tis,to,too,\n",
    "twas,us,wants,was,we,were,what,when,where,which,while,who,whom,why,will,with,\n",
    "would,yet,you,your]\n",
    "\n",
    "def words(book):\n",
    "    for char in book:\n",
    "        if char in punctuation:\n",
    "            book = book.replace(char, '')\n",
    "        if char in whitespace:\n",
    "            book = book.replace(char, ' ')\n",
    "    return book.lower().split()"
   ]
  },
  {
   "cell_type": "code",
   "execution_count": 46,
   "metadata": {
    "collapsed": false
   },
   "outputs": [
    {
     "data": {
      "text/plain": [
       "{'a': 1362,\n",
       " 'and': 1685,\n",
       " 'for': 445,\n",
       " 'had': 505,\n",
       " 'have': 547,\n",
       " 'he': 914,\n",
       " 'his': 690,\n",
       " 'i': 1465,\n",
       " 'in': 964,\n",
       " 'is': 649,\n",
       " 'it': 985,\n",
       " 'my': 477,\n",
       " 'of': 1715,\n",
       " 'that': 1143,\n",
       " 'the': 3496,\n",
       " 'to': 1487,\n",
       " 'was': 803,\n",
       " 'we': 462,\n",
       " 'which': 424,\n",
       " 'with': 487,\n",
       " 'you': 894}"
      ]
     },
     "execution_count": 46,
     "metadata": {},
     "output_type": "execute_result"
    }
   ],
   "source": [
    "def word_frequency(book):\n",
    "    book = words(book)\n",
    "    word_count = {}\n",
    "    for word in book:\n",
    "        if word not in word_count:\n",
    "            word_count[word] = 1\n",
    "        else:\n",
    "            word_count[word] += 1\n",
    "    return word_count\n",
    "\n",
    "def top_twenty(book):\n",
    "    word_count = word_frequency(book)\n",
    "    count_word = {}\n",
    "    count_word = sorted(word_count.items(), key=lambda x: x[1], reverse = True)\n",
    "    n=0\n",
    "    top_twenty = []\n",
    "    while n <= 20:\n",
    "        top_twenty.append(count_word[n])\n",
    "        n+=1\n",
    "    return dict(top_twenty)\n",
    "  \n",
    "top_twenty(book)\n",
    "#print(word_list)"
   ]
  },
  {
   "cell_type": "code",
   "execution_count": 25,
   "metadata": {
    "collapsed": false
   },
   "outputs": [
    {
     "data": {
      "text/plain": [
       "['__add__',\n",
       " '__class__',\n",
       " '__contains__',\n",
       " '__delattr__',\n",
       " '__dir__',\n",
       " '__doc__',\n",
       " '__eq__',\n",
       " '__format__',\n",
       " '__ge__',\n",
       " '__getattribute__',\n",
       " '__getitem__',\n",
       " '__getnewargs__',\n",
       " '__gt__',\n",
       " '__hash__',\n",
       " '__init__',\n",
       " '__iter__',\n",
       " '__le__',\n",
       " '__len__',\n",
       " '__lt__',\n",
       " '__mul__',\n",
       " '__ne__',\n",
       " '__new__',\n",
       " '__reduce__',\n",
       " '__reduce_ex__',\n",
       " '__repr__',\n",
       " '__rmul__',\n",
       " '__setattr__',\n",
       " '__sizeof__',\n",
       " '__str__',\n",
       " '__subclasshook__',\n",
       " 'count',\n",
       " 'index']"
      ]
     },
     "execution_count": 25,
     "metadata": {},
     "output_type": "execute_result"
    }
   ],
   "source": [
    "dir(())"
   ]
  },
  {
   "cell_type": "code",
   "execution_count": null,
   "metadata": {
    "collapsed": true
   },
   "outputs": [],
   "source": []
  }
 ],
 "metadata": {
  "kernelspec": {
   "display_name": "Python 3",
   "language": "python",
   "name": "python3"
  }
 },
 "nbformat": 4,
 "nbformat_minor": 0
}
