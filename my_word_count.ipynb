{
 "cells": [
  {
   "cell_type": "code",
   "execution_count": null,
   "metadata": {
    "collapsed": true
   },
   "outputs": [],
   "source": [
    "with open(\"sample.txt\") as hounds_of_the_baskerville:\n",
    "    book = hounds_of_the_baskerville.read()"
   ]
  },
  {
   "cell_type": "code",
   "execution_count": null,
   "metadata": {
    "collapsed": false
   },
   "outputs": [],
   "source": [
    "from string import punctuation\n",
    "from string import whitespace"
   ]
  },
  {
   "cell_type": "code",
   "execution_count": null,
   "metadata": {
    "collapsed": false
   },
   "outputs": [],
   "source": [
    "for char in book:\n",
    "    if char in punctuation:\n",
    "        book = book.replace(char, ' ')\n",
    "    if char in whitespace:\n",
    "        book = book.replace(char, ' ')"
   ]
  },
  {
   "cell_type": "code",
   "execution_count": null,
   "metadata": {
    "collapsed": false
   },
   "outputs": [],
   "source": [
    "book = book.lower().split()"
   ]
  },
  {
   "cell_type": "code",
   "execution_count": null,
   "metadata": {
    "collapsed": false
   },
   "outputs": [],
   "source": [
    "#book = book.split()"
   ]
  },
  {
   "cell_type": "code",
   "execution_count": null,
   "metadata": {
    "collapsed": false
   },
   "outputs": [],
   "source": [
    "word_count = {}\n",
    "for word in book:\n",
    "    if word not in word_count:\n",
    "        word_count[word]=1\n",
    "    else:\n",
    "        word_count[word]+=1"
   ]
  },
  {
   "cell_type": "code",
   "execution_count": null,
   "metadata": {
    "collapsed": false
   },
   "outputs": [],
   "source": [
    "new_dict = word_count"
   ]
  },
  {
   "cell_type": "code",
   "execution_count": null,
   "metadata": {
    "collapsed": false
   },
   "outputs": [],
   "source": [
    "word_list = []\n",
    "for word in new_dict:\n",
    "    word_list.append([new_dict[word], word])"
   ]
  },
  {
   "cell_type": "code",
   "execution_count": null,
   "metadata": {
    "collapsed": false
   },
   "outputs": [],
   "source": [
    "third_dict = {}\n",
    "\n",
    "for word in word_list:\n",
    "    if word[0] not in third_dict:\n",
    "        third_dict[word[0]] = word[1]\n",
    "    else:\n",
    "        third_dict[word[0]] += ', '+word[1]\n"
   ]
  },
  {
   "cell_type": "code",
   "execution_count": null,
   "metadata": {
    "collapsed": false
   },
   "outputs": [],
   "source": [
    "word_count = sorted(third_dict)"
   ]
  },
  {
   "cell_type": "code",
   "execution_count": null,
   "metadata": {
    "collapsed": false
   },
   "outputs": [],
   "source": [
    "word_count = word_count[::-1]"
   ]
  },
  {
   "cell_type": "code",
   "execution_count": null,
   "metadata": {
    "collapsed": false
   },
   "outputs": [],
   "source": [
    "n=0\n",
    "word = ''\n",
    "top_twenty = []\n",
    "while n <= 20:\n",
    "    word = third_dict[word_count[n]]\n",
    "    top_twenty.append([word_count[n], third_dict[word_count[n]]])\n",
    "    n+=1\n",
    "print(top_twenty)"
   ]
  },
  {
   "cell_type": "code",
   "execution_count": null,
   "metadata": {
    "collapsed": false
   },
   "outputs": [],
   "source": [
    "for word, count in top_twenty:\n",
    "    print (\"{}: {}\".format(word, count))"
   ]
  },
  {
   "cell_type": "code",
   "execution_count": null,
   "metadata": {
    "collapsed": false
   },
   "outputs": [],
   "source": [
    "with open(\"sample.txt\") as hounds_of_the_baskerville:\n",
    "    book = hounds_of_the_baskerville.read()\n",
    "\n",
    "from string import punctuation\n",
    "from string import whitespace\n",
    "\n",
    "def words(book):\n",
    "    for char in book:\n",
    "        if char in punctuation:\n",
    "            book = book.replace(char, ' ')\n",
    "        if char in whitespace:\n",
    "            book = book.replace(char, ' ')\n",
    "        return book.lower().split()\n",
    "\n",
    "def top_twenty(book):\n",
    "    word_count = {}\n",
    "    count_word = {}\n",
    "    for word in book:\n",
    "        if word not in word_count:\n",
    "            word_count[word]=1\n",
    "        else:\n",
    "            word_count[word]+=1\n",
    "    word_list = []\n",
    "    for word in word_count:\n",
    "        word_list.append([word_count[word], word])\n",
    "    for word in word_list:\n",
    "        if word[0] not in count_word:\n",
    "            count_word[word[0]] = word[1]\n",
    "        else:\n",
    "            count_word[word[0]] += ', '+word[1]\n",
    "    count = sorted(count_word)\n",
    "    count = count[::-1]\n",
    "    n=0\n",
    "    word = ''\n",
    "    top_twenty = []\n",
    "    while n <= 20:\n",
    "        word = count_word[word_count[n]]\n",
    "        top_twenty.append([word_count[n], count_word[word_count[n]]])\n",
    "        n+=1\n",
    "    for word, count in top_twenty:\n",
    "        return (\"{}: {}\".format(word, count))\n",
    "    \n",
    "print (top_twenty(words(book)))"
   ]
  },
  {
   "cell_type": "code",
   "execution_count": 76,
   "metadata": {
    "collapsed": false
   },
   "outputs": [],
   "source": [
    "with open(\"sample.txt\") as hounds_of_the_baskerville:\n",
    "    book = hounds_of_the_baskerville.read()\n",
    "\n",
    "from string import punctuation\n",
    "from string import whitespace\n",
    "from operator import itemgetter"
   ]
  },
  {
   "cell_type": "code",
   "execution_count": null,
   "metadata": {
    "collapsed": false
   },
   "outputs": [],
   "source": [
    "useless_words = ['a', 'able', 'about', 'across', 'after', 'all', 'almost', 'also', 'am',\n",
    "                 'among', 'an', 'and', 'any', 'are', 'as', 'at', 'be', 'because', 'been',\n",
    "                 'but', 'by', 'can', 'cannot','could','dear','did','do','does','either'\n",
    "                 ,'else','ever','every','for','from','get','got','had','has','have',\n",
    "                 'he','her','hers','him','his','how','however','i','if','in','into',\n",
    "                 'is','it','its','just','least','let','like','likely','may','me',\n",
    "                 'might','most','must','my','neither','no','nor','not','of','off',\n",
    "                 'often','on','only','or','other','our','own','rather','said',\n",
    "                 'say','says','she','should','since','so','some','than','that',\n",
    "                 'the','their','them','then','there','these','they','this','tis',\n",
    "                 'to','too','twas','us','wants','was','we','were','what','when',\n",
    "                 'where','which','while','who','whom','why','will','with','would',\n",
    "                 'yet','you','your','more','before','man','see','very','now',\n",
    "                 'out','over','upon','well','here','came','come','much']\n",
    "\n",
    "def words(book):\n",
    "    for char in book:\n",
    "        if char in punctuation:\n",
    "            book = book.replace(char, '')\n",
    "        if char in whitespace:\n",
    "            book = book.replace(char, ' ')\n",
    "    book = book.lower().split()\n",
    "    new_book = []\n",
    "    for word in book:\n",
    "        if word not in useless_words:\n",
    "            new_book.append(word)\n",
    "    return(new_book)\n",
    "\n",
    "words(book)"
   ]
  },
  {
   "cell_type": "code",
   "execution_count": 84,
   "metadata": {
    "collapsed": false
   },
   "outputs": [
    {
     "name": "stdout",
     "output_type": "stream",
     "text": [
      "{'down': 111, 'think': 90, 'face': 77, 'henry': 143, 'time': 84, 'mortimer': 86, 'dr': 107, 'moor': 155, 'sir': 347, 'two': 78, 'holmes': 184, 'know': 117, 'baskerville': 109, 'much': 77, 'one': 240, 'stapleton': 84, 'last': 74, 'come': 89, 'up': 125, 'project': 86, 'watson': 109}\n"
     ]
    }
   ],
   "source": [
    "def word_frequency(book):\n",
    "    book = words(book)\n",
    "    word_count = {}\n",
    "    for word in book:\n",
    "        if word not in word_count:\n",
    "            word_count[word] = 1\n",
    "        else:\n",
    "            word_count[word] += 1\n",
    "    return word_count\n",
    "\n",
    "def top_twenty(book):\n",
    "    word_count = word_frequency(book)\n",
    "    count_word = {}\n",
    "    count_word = sorted(word_count.items(), key=lambda x: x[1], reverse = True)\n",
    "    n=0\n",
    "    top_twenty = []\n",
    "    while n <= 20:\n",
    "        top_twenty.append(count_word[n])\n",
    "        n+=1\n",
    "    return dict(top_twenty)\n",
    "\n",
    "#words(book)\n",
    "#word_frequency(book)\n",
    "#top_twenty(book)\n",
    "print(top_twenty(book))"
   ]
  },
  {
   "cell_type": "code",
   "execution_count": 67,
   "metadata": {
    "collapsed": false
   },
   "outputs": [
    {
     "name": "stdout",
     "output_type": "stream",
     "text": [
      "[['123', 'xyz']]\n",
      "[['123', 'xyz']]\n",
      "[['123', 'xyz']]\n",
      "[['123', 'xyz'], ['xyz', 'Steve']]\n"
     ]
    }
   ],
   "source": [
    "book = [['123', 'xyz'], ['the', 'abc',], ['able', 'across',], ['xyz', 'Steve']];\n",
    "\n",
    "new_book = []\n",
    "for group in book:\n",
    "    if group[0] not in useless_words:\n",
    "        new_book.append(group)\n",
    "    print(new_book)"
   ]
  },
  {
   "cell_type": "code",
   "execution_count": 58,
   "metadata": {
    "collapsed": false
   },
   "outputs": [
    {
     "data": {
      "text/plain": [
       "['__add__',\n",
       " '__class__',\n",
       " '__contains__',\n",
       " '__delattr__',\n",
       " '__delitem__',\n",
       " '__dir__',\n",
       " '__doc__',\n",
       " '__eq__',\n",
       " '__format__',\n",
       " '__ge__',\n",
       " '__getattribute__',\n",
       " '__getitem__',\n",
       " '__gt__',\n",
       " '__hash__',\n",
       " '__iadd__',\n",
       " '__imul__',\n",
       " '__init__',\n",
       " '__iter__',\n",
       " '__le__',\n",
       " '__len__',\n",
       " '__lt__',\n",
       " '__mul__',\n",
       " '__ne__',\n",
       " '__new__',\n",
       " '__reduce__',\n",
       " '__reduce_ex__',\n",
       " '__repr__',\n",
       " '__reversed__',\n",
       " '__rmul__',\n",
       " '__setattr__',\n",
       " '__setitem__',\n",
       " '__sizeof__',\n",
       " '__str__',\n",
       " '__subclasshook__',\n",
       " 'append',\n",
       " 'clear',\n",
       " 'copy',\n",
       " 'count',\n",
       " 'extend',\n",
       " 'index',\n",
       " 'insert',\n",
       " 'pop',\n",
       " 'remove',\n",
       " 'reverse',\n",
       " 'sort']"
      ]
     },
     "execution_count": 58,
     "metadata": {},
     "output_type": "execute_result"
    }
   ],
   "source": [
    "dir(list)"
   ]
  },
  {
   "cell_type": "code",
   "execution_count": 61,
   "metadata": {
    "collapsed": false
   },
   "outputs": [
    {
     "name": "stdout",
     "output_type": "stream",
     "text": [
      "Help on method_descriptor:\n",
      "\n",
      "pop(...)\n",
      "    L.pop([index]) -> item -- remove and return item at index (default last).\n",
      "    Raises IndexError if list is empty or index is out of range.\n",
      "\n"
     ]
    }
   ],
   "source": [
    "help(list.pop)"
   ]
  },
  {
   "cell_type": "code",
   "execution_count": null,
   "metadata": {
    "collapsed": true
   },
   "outputs": [],
   "source": []
  }
 ],
 "metadata": {
  "kernelspec": {
   "display_name": "Python 3",
   "language": "python",
   "name": "python3"
  },
  "language_info": {
   "codemirror_mode": {
    "name": "ipython",
    "version": 3
   },
   "file_extension": ".py",
   "mimetype": "text/x-python",
   "name": "python",
   "nbconvert_exporter": "python",
   "pygments_lexer": "ipython3",
   "version": "3.5.0"
  }
 },
 "nbformat": 4,
 "nbformat_minor": 0
}
